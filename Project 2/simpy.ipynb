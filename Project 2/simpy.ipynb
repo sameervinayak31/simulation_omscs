{
 "cells": [
  {
   "cell_type": "markdown",
   "metadata": {},
   "source": [
    "# Exploring Python's *SimPy* as a Simulation Tool"
   ]
  },
  {
   "cell_type": "markdown",
   "metadata": {},
   "source": [
    "## Vivek Gawande & Sameer Vinayak"
   ]
  },
  {
   "cell_type": "markdown",
   "metadata": {},
   "source": [
    "### Abstract"
   ]
  },
  {
   "cell_type": "markdown",
   "metadata": {},
   "source": [
    "In this notebook, we explore python's SimPy package. The open-source package was developed to allow users to model and simulate real-life scenarios using a process-interaction paradigm. SimPy's syntax is very unobtrusive. For the most part, using the SimPy package is very similar to using core python syntax. What SimPy does offer is the ability to perform a few very important functions related to simulation, such as queuing and using shared resources. Due to its leveraging already-established and well-known python libraries, such as numpy and random, to support its functionality, we find that SimPy is a strong option for those already comfortable with python syntax. It is particularly strong in it's ability to run multiple processes \"simultaneously\" that would otherwise be challenging and time-intensive to implement. We find SimPy to be a worthy modern successor to its less nimble predecessors."
   ]
  },
  {
   "cell_type": "markdown",
   "metadata": {},
   "source": [
    "### Background & Overview"
   ]
  },
  {
   "cell_type": "markdown",
   "metadata": {},
   "source": [
    "SimPy is a python package that supports the creation of process-interaction-based simulation models. The package was first developed in 2002, and is now on version 4.0.1. While primarily developed in python, ports of the package exist for the C#, Julia, and R languages. Unlike standalone software such as Arena, SimPy is used as an addition to the existing python language, meaning a user of SimPy must be relatively familiar with python. On the same note, however, a user of python may have an easier time getting accustomed to the simulation framework once educated on some of the terminology. \n",
    "\n",
    "The package relies heavily on python's generator object in order to facilitate the concept of \"waiting\". This \"waiting\" is used to allow for processes to finish and for resources to become available. This allows the package to offer functionality analogous to an asynchronous event dispatcher. In other words, multiple processes can be made to appear as running in parallel, and these processes can trigger other processes that are due next.\n",
    "\n",
    "Similar to other simulation software like Arena, SimPy has basic objects that are used to facilitate simulations. For example, *processes* are events that may take place, such as entering a store and shopping, or repairing a car, to give a few examples. *Resources* are objects that can be relied upon in order to carry out processes, such as a spot at a register to pay, or a mechanic to repair a car. A *container* can be used to track fluctuating resources, like the amount of money in a wallet. There are many more object types, and each comes with useful methods with which to interact.\n",
    "\n",
    "As mentioned, the package takes advantage of being embedded in the python language. Accordingly, functionality such as random variate generation, did not need to be re-implemented for the purpose of this package. Instead, the package allows the user to simply use other modules (such as ```random```) in conjunction with this package. That allows for the user to user already-familiar syntax for common tasks like generating a random number. In a similar vein, SimPy does not appear to offer automatically generated simulation reports. Instead, the user is expected to use built in data structures such as lists and dictionaries to track the results of the simulation as they are occuring. This allows for a great amount of customization at the expense of up front costs and tediousness.\n",
    "\n",
    "In the remainder of this project, we will begin by giving a high level User Guide to using SimPy. This will display the fundamental classes that make up the core functionality of the package. Then, we will build an example simulation. This will touch on some of the more advanced concepts of SimPy. Next, we will provide comments and opinions on using the package before concluding."
   ]
  },
  {
   "cell_type": "markdown",
   "metadata": {},
   "source": [
    "### User Guide"
   ]
  },
  {
   "cell_type": "markdown",
   "metadata": {},
   "source": [
    "In order to install SimPy, users can simply use pip by running the following command:\n",
    "```\n",
    "pip install simpy\n",
    "```\n",
    "This will install the latest publicly available release. The package, impressively, has no other dependencies and relies solely on core python. Due to the extensive use of generators, python 3 is strongly preferred for use of the package.\n",
    "\n",
    "The package can then be imported as shown below."
   ]
  },
  {
   "cell_type": "code",
   "execution_count": 1,
   "metadata": {},
   "outputs": [],
   "source": [
    "import simpy"
   ]
  },
  {
   "cell_type": "markdown",
   "metadata": {},
   "source": [
    "First, we will create an environment object, which will house all of the processes and resources that we will use. Any simulation in SimPy must belong to an environment. \n",
    "\n",
    "Then, we will create a ```runner``` function to represent an athlete who can one of two things: run and hydrate. The key concept used to facilitate this timed switching between activities is ```yield```, which returns a generator object. Throughout the process, we can print (or alternatively store) the times at which the action commenced."
   ]
  },
  {
   "cell_type": "code",
   "execution_count": 2,
   "metadata": {},
   "outputs": [],
   "source": [
    "env = simpy.Environment()\n",
    "\n",
    "def runner(env):\n",
    "    while True:\n",
    "        print(\"start running at at %d\" % env.now)\n",
    "        running_time = 10  # runner runs for 10 minutes\n",
    "        yield env.timeout(running_time)\n",
    "        \n",
    "        print(\"start hydrating at at %d\" % env.now)\n",
    "        hydrating_time = 2  # runner hydrates for 2 minutes\n",
    "        yield env.timeout(hydrating_time)"
   ]
  },
  {
   "cell_type": "markdown",
   "metadata": {},
   "source": [
    "The above function outlines how a runner may behave. Now, we need to execute the process. To do so, we also need to decide when the process will end. In this basic example, we can simply end once the time has reached 60 minutes."
   ]
  },
  {
   "cell_type": "code",
   "execution_count": 3,
   "metadata": {},
   "outputs": [
    {
     "name": "stdout",
     "output_type": "stream",
     "text": [
      "start running at at 0\n",
      "start hydrating at at 10\n",
      "start running at at 12\n",
      "start hydrating at at 22\n",
      "start running at at 24\n",
      "start hydrating at at 34\n",
      "start running at at 36\n",
      "start hydrating at at 46\n",
      "start running at at 48\n",
      "start hydrating at at 58\n"
     ]
    }
   ],
   "source": [
    "how_long = 60\n",
    "env.process(runner(env))  # this essentially connects the process to the environment.\n",
    "                          # multiple processes can be added to an environment.\n",
    "env.run(until=how_long)"
   ]
  },
  {
   "cell_type": "markdown",
   "metadata": {},
   "source": [
    "We can see that the athlete followed the expected pattern - switching off running for 10 minutes and hydrating for 2 minutes until the 60 minute limit was reached."
   ]
  },
  {
   "cell_type": "markdown",
   "metadata": {},
   "source": [
    "In the coming example, we will discuss more advanced functionality, such as drawing from a distribution, using resources, and running competing processes. To conclude this high level user guide, we have provided a glossary of key concepts:\n",
    "\n",
    "- ```Environment``` - the execution space for the simulation. SimPy also supports ```RealTimeEnvironment```, which uses wall-clock time, but the standard Environment is event-based, and the progression of time is determined by the beginning and ending of events. An environment can be instantiated with a start time if using 0 is not preferred. Multiple processes often belong to one environment.\n",
    "- ```yield```/*generator* - these core python concepts are used throughout SimPy simulations in order to simulate the \"waiting\" process. One must yield a ```timeout``` object/event to ensure the simulation follows the desired rules.\n",
    "- ```Environment.timeout()``` - the ```.timeout()``` method returns an event after a specified delay. This can be thought of as Arena's \"Seize-Delay-Release\" all in one. \n",
    "- ```Environment.process()``` - once an environment is created, one should ```process``` (different from the noun process) a generator, which can be returned from a custom-defined function. In our example above, the function ```runner``` yields a generator, which gets processed by the environment. In layperson's terms, processing an item adds it to the environment for future use.\n",
    "- ```Environment.run()``` - this method executes the generators in the environment. The environment runs until either the specified time is met, or there are no further events to be processed. Alternatively, one can pass another event into the ```until``` parameter, and the simulation will run until that event is processed. "
   ]
  },
  {
   "cell_type": "markdown",
   "metadata": {},
   "source": [
    "### Example"
   ]
  },
  {
   "cell_type": "markdown",
   "metadata": {},
   "source": [
    "Let us build upon the runner example above to illustrate how SimPy can be used to model a scenario that is closer to the complexities of real-life.\n",
    "\n",
    "In this example, we configure the model to have multiple runners, who run a fixed number of laps in a race. Each runner starts with the same amount of energy, which is replenished at a fixed number of water fountains, which can only be used by one runner at a time."
   ]
  },
  {
   "cell_type": "markdown",
   "metadata": {},
   "source": [
    "Below, we import numpy's ```normal``` method, which will be used to generate a number from a normal distribution centered around a given mean."
   ]
  },
  {
   "cell_type": "code",
   "execution_count": 4,
   "metadata": {},
   "outputs": [],
   "source": [
    "from numpy.random import normal"
   ]
  },
  {
   "cell_type": "markdown",
   "metadata": {},
   "source": [
    "The environment variables below define the resources and specifications of the simulation."
   ]
  },
  {
   "cell_type": "code",
   "execution_count": 5,
   "metadata": {},
   "outputs": [],
   "source": [
    "NUMBER_OF_RUNNERS = 5\n",
    "NUMBER_OF_WATER_FOUNTAINS = 2\n",
    "MAX_ENERGY = 15\n",
    "NUMBER_OF_LAPS = 4"
   ]
  },
  {
   "cell_type": "markdown",
   "metadata": {},
   "source": [
    "The in-line comments explain what certain lines of our expanded ```runner``` function do, and a full discussion is below the definition of the function."
   ]
  },
  {
   "cell_type": "code",
   "execution_count": 6,
   "metadata": {},
   "outputs": [],
   "source": [
    "def runner(env, runner_number, fountain, laps_completed=0, energy_units=MAX_ENERGY, output=True):\n",
    "    while laps_completed < NUMBER_OF_LAPS:  # stop once the runner finishes the final lap\n",
    "        \n",
    "        # first, the runner completes a lap.\n",
    "        \n",
    "        lap_time = int(normal(5))  # generate a number from a normal dist with mean=5\n",
    "                                   # to represent how long the current lap took to run\n",
    "        laps_completed += 1\n",
    "        \n",
    "        # The number of \"energy units\" used is equal to\n",
    "        # the length of the lap plus the lap number\n",
    "        # this way, each additional lap uses linearly more energy\n",
    "        energy_units -= (lap_time+laps_completed)\n",
    "        \n",
    "        # the yield statement is what actually\n",
    "        # simulates the time passing/runner running\n",
    "        yield env.timeout(lap_time)\n",
    "        \n",
    "        if output:\n",
    "            print('Runner {} finished lap #{} in {} minutes. Energy level: {}. Current stopwatch: {}'.format(runner_number, laps_completed,\n",
    "                                                    lap_time, energy_units, env.now))\n",
    "        \n",
    "        # next, the runner goes to the water fountain to replenish\n",
    "        \n",
    "        # we make a \"request\" to the fountain resource, which is\n",
    "        # created with a capacity NUMBER_OF_WATER_FOUNTAINS\n",
    "        with fountain.request() as req:\n",
    "            yield req  # ensures that only up to NUMBER_OF_WATER_FOUNTAINS\n",
    "                       # people use the resource at once\n",
    "            \n",
    "            # reduce the max energy as one tires\n",
    "            new_max_energy = MAX_ENERGY - laps_completed\n",
    "            \n",
    "            # arbitrary example of how one might calculate the water break length\n",
    "            # alternatively, this can be randomized or drawn from a distribution\n",
    "            water_break_length = (new_max_energy - energy_units) // 3\n",
    "            \n",
    "            # simulate time passing for the water break\n",
    "            yield env.timeout(water_break_length)  # replenish\n",
    "            energy_units = new_max_energy\n",
    "            \n",
    "            if output:\n",
    "                print('Runner {} replenished with some water. Energy back to {}. Water break took {} minutes.'.format(runner_number, \n",
    "                                                                    energy_units,\n",
    "                                                                   water_break_length))\n",
    "\n",
    "    \n",
    "    if output:\n",
    "        print(\"---RUNNER {} COMPLETED THE CIRCUIT IN {} MINUTES!---\".format(runner_number, env.now))\n",
    "    current_finish_times.append(env.now)  # storing the finish time in order to generate reporting\n",
    "    "
   ]
  },
  {
   "cell_type": "markdown",
   "metadata": {},
   "source": [
    "The function above models a plausible scenario for how a race might play out - runners all start at the same time at the beginning, run a fixed number of laps, and in between laps, must share a fixed number of water fountain resources to replenish their energy. If a fountain is not available, runners must wait until one becomes available.\n",
    "\n",
    "In this case, we drew the time taken by a runner for each lap from a normal distribution using numpy's ```random.normal```. This, and many other details about the model outlined in the in-line comments, are implemented using core python simply as variables and rudimentary calculations. This perhaps increases the up front cost compared to using a dedicated user interface, but infinitely increases the flexibility and room for customization.\n",
    "\n",
    "In order to use a shared resource, we make a request to the resource, which is pre-defined with a capacity. Since a ```with``` statement was used, the resource gets automatically released once that segment of code is completed. Alternatively, we could have manually released the resource using the ```.release()``` method, but in this case there wasn't a need for additional verbosity. Doing so puts the onus on the user to ensure that all resources are released when done being used to avoid holding a resource indefinitely, much like in Arena. SimPy's ```Resource``` is by default FIFO, but the library also offers other resource types, such as ```PriorityResource``` and ```PreemptiveResource```.\n",
    "\n",
    "We append each runner's finish time to ```current_finish_times```for later potential use in making statistical conclusions about the race."
   ]
  },
  {
   "cell_type": "markdown",
   "metadata": {},
   "source": [
    "To execute the simulation, we set up the environment as before below. A resource is created into the ```fountain``` variable, which has a pre-determined capacity. Then, for each runner, we ```process``` the runner to add them to the environment before running the environment and simulation."
   ]
  },
  {
   "cell_type": "code",
   "execution_count": 8,
   "metadata": {},
   "outputs": [
    {
     "name": "stdout",
     "output_type": "stream",
     "text": [
      "Runner 2 finished lap #1 in 3 minutes. Energy level: 11. Current stopwatch: 3\n",
      "Runner 3 finished lap #1 in 3 minutes. Energy level: 11. Current stopwatch: 3\n",
      "Runner 4 finished lap #1 in 4 minutes. Energy level: 10. Current stopwatch: 4\n",
      "Runner 5 finished lap #1 in 4 minutes. Energy level: 10. Current stopwatch: 4\n",
      "Runner 2 replenished with some water. Energy back to 14. Water break took 1 minutes.\n",
      "Runner 3 replenished with some water. Energy back to 14. Water break took 1 minutes.\n",
      "Runner 1 finished lap #1 in 5 minutes. Energy level: 9. Current stopwatch: 5\n",
      "Runner 4 replenished with some water. Energy back to 14. Water break took 1 minutes.\n",
      "Runner 5 replenished with some water. Energy back to 14. Water break took 1 minutes.\n",
      "Runner 1 replenished with some water. Energy back to 14. Water break took 1 minutes.\n",
      "Runner 2 finished lap #2 in 5 minutes. Energy level: 7. Current stopwatch: 9\n",
      "Runner 3 finished lap #2 in 5 minutes. Energy level: 7. Current stopwatch: 9\n",
      "Runner 4 finished lap #2 in 4 minutes. Energy level: 8. Current stopwatch: 9\n",
      "Runner 5 finished lap #2 in 4 minutes. Energy level: 8. Current stopwatch: 9\n",
      "Runner 2 replenished with some water. Energy back to 13. Water break took 2 minutes.\n",
      "Runner 3 replenished with some water. Energy back to 13. Water break took 2 minutes.\n",
      "Runner 1 finished lap #2 in 6 minutes. Energy level: 6. Current stopwatch: 12\n",
      "Runner 4 replenished with some water. Energy back to 13. Water break took 1 minutes.\n",
      "Runner 5 replenished with some water. Energy back to 13. Water break took 1 minutes.\n",
      "Runner 1 replenished with some water. Energy back to 13. Water break took 2 minutes.\n",
      "Runner 2 finished lap #3 in 4 minutes. Energy level: 6. Current stopwatch: 15\n",
      "Runner 3 finished lap #3 in 4 minutes. Energy level: 6. Current stopwatch: 15\n",
      "Runner 5 finished lap #3 in 4 minutes. Energy level: 6. Current stopwatch: 16\n",
      "Runner 2 replenished with some water. Energy back to 12. Water break took 2 minutes.\n",
      "Runner 3 replenished with some water. Energy back to 12. Water break took 2 minutes.\n",
      "Runner 4 finished lap #3 in 6 minutes. Energy level: 4. Current stopwatch: 18\n",
      "Runner 1 finished lap #3 in 4 minutes. Energy level: 6. Current stopwatch: 18\n",
      "Runner 5 replenished with some water. Energy back to 12. Water break took 2 minutes.\n",
      "Runner 3 finished lap #4 in 3 minutes. Energy level: 5. Current stopwatch: 20\n",
      "Runner 4 replenished with some water. Energy back to 12. Water break took 2 minutes.\n",
      "Runner 1 replenished with some water. Energy back to 12. Water break took 2 minutes.\n",
      "Runner 5 finished lap #4 in 3 minutes. Energy level: 5. Current stopwatch: 22\n",
      "Runner 3 replenished with some water. Energy back to 11. Water break took 2 minutes.\n",
      "---RUNNER 3 COMPLETED THE CIRCUIT IN 22 MINUTES!---\n",
      "Runner 2 finished lap #4 in 6 minutes. Energy level: 2. Current stopwatch: 23\n",
      "Runner 4 finished lap #4 in 4 minutes. Energy level: 4. Current stopwatch: 24\n",
      "Runner 5 replenished with some water. Energy back to 11. Water break took 2 minutes.\n",
      "---RUNNER 5 COMPLETED THE CIRCUIT IN 24 MINUTES!---\n",
      "Runner 1 finished lap #4 in 4 minutes. Energy level: 4. Current stopwatch: 25\n",
      "Runner 2 replenished with some water. Energy back to 11. Water break took 3 minutes.\n",
      "---RUNNER 2 COMPLETED THE CIRCUIT IN 26 MINUTES!---\n",
      "Runner 4 replenished with some water. Energy back to 11. Water break took 2 minutes.\n",
      "---RUNNER 4 COMPLETED THE CIRCUIT IN 26 MINUTES!---\n",
      "Runner 1 replenished with some water. Energy back to 11. Water break took 2 minutes.\n",
      "---RUNNER 1 COMPLETED THE CIRCUIT IN 28 MINUTES!---\n"
     ]
    }
   ],
   "source": [
    "current_finish_times = []  # to store finish times\n",
    "\n",
    "env = simpy.Environment()\n",
    "fountain = simpy.Resource(env, capacity=NUMBER_OF_WATER_FOUNTAINS)  # create shared resource\n",
    "for current_runner in range(1, NUMBER_OF_RUNNERS+1):  # add each runner to the environment\n",
    "    env.process(runner(env, current_runner, fountain))\n",
    "env.run()  # run each process in parallel"
   ]
  },
  {
   "cell_type": "markdown",
   "metadata": {},
   "source": [
    "For illustrative purposes, this example only prints the output of the simulation and stores the final finish time for the runner. We could have easily stored each lap time, queue lengths at the fountains, and anything else that might be needed by the administrators of the simulation.\n",
    "\n",
    "Below, we simulate thousands of repetitions of the simulation and store the finish time of the first place finisher as a basic example of how one may use this simulation to understand the real-life scenario better over a large number of trials."
   ]
  },
  {
   "cell_type": "code",
   "execution_count": 9,
   "metadata": {},
   "outputs": [
    {
     "name": "stdout",
     "output_type": "stream",
     "text": [
      "CPU times: user 1min 7s, sys: 814 ms, total: 1min 8s\n",
      "Wall time: 1min 9s\n"
     ]
    }
   ],
   "source": [
    "%%time\n",
    "\n",
    "first_place_finishes = []\n",
    "NUMBER_OF_SIMULATIONS = 50000\n",
    "for n in range(NUMBER_OF_SIMULATIONS):\n",
    "    current_finish_times = []\n",
    "    env = simpy.Environment()\n",
    "    fountain = simpy.Resource(env, capacity=NUMBER_OF_WATER_FOUNTAINS)  # create shared resource\n",
    "    for current_runner in range(1, NUMBER_OF_RUNNERS+1):  # add each runner to the environment\n",
    "        env.process(runner(env, current_runner, fountain, output=False))\n",
    "    a = env.run()  # run each process in parallel\n",
    "    first_place_finishes.append(min(current_finish_times))"
   ]
  },
  {
   "cell_type": "code",
   "execution_count": 10,
   "metadata": {},
   "outputs": [
    {
     "data": {
      "image/png": "[encoded data removed]",
      "text/plain": [
       "<Figure size 432x288 with 1 Axes>"
      ]
     },
     "metadata": {
      "needs_background": "light"
     },
     "output_type": "display_data"
    }
   ],
   "source": [
    "import matplotlib.pyplot as plt\n",
    "\n",
    "plt.hist(first_place_finishes);"
   ]
  },
  {
   "cell_type": "markdown",
   "metadata": {},
   "source": [
    "The execution of 50,000 repetitions takes roughly 70 seconds. This can be sped up using multiprocessing, as one example."
   ]
  },
  {
   "cell_type": "markdown",
   "metadata": {},
   "source": [
    "### Comments, Opinions, & Conclusion"
   ]
  },
  {
   "cell_type": "markdown",
   "metadata": {},
   "source": [
    "The above example is no doubt a relatively basic one, but one that is extensible to many of the common call center (and other complex) scenarios explored using Arena. We were able to develop a model that relies on shared resources, implicit FIFO queues, and drawing from distributions, and scale the simulation to tens of thousands of repititions easily.\n",
    "\n",
    "As a personal anecdote, learning how to write a simple example simulation like the initial example in our User Guide took roughly 45 minutes of reading SimPy's documentation. This should underscore the ease of learning SimPy for one already relatively well-versed in python syntax and concepts.\n",
    "\n",
    "SimPy's strength lies in its flexibility. Using SimPy is very close in nature to using only out-of-the-box python data structures, with syntactically-simple added functionality and data structures to support concepts like queueing and wait times. Accordingly, where SimPy may lack certain features (such as, for example, the ability to adjust a resource's capacity after it is created), one can build supporting methods and classes to carry out additional functionality.\n",
    "\n",
    "SimPy (which is open source) could benefit from either additional functionality or boilerplate code examples in the documentation related to reporting and monitoring. Currently, all activity during the simulation must be stored in global variables in order to be retrieved later, and then any calculations must also be performed manually. This can become tedious for larger examples with many more processes and resources.\n",
    "\n",
    "SimPy's compatibility with already-established statistical packages is a strong feature - it allows users to benefit from any comfortability they already may have with those packages, and avoids \"reinventing the wheel\" and allows statistical software to be developed by dedicated developers.\n",
    "\n",
    "Compared to using Arena, where many new concepts and syntax had to be learned, SimPy had a smooth learning curve. Managing a growing simulation with more and more processes and resources will become as complex as the code written to describe it. This puts more control in the hands of the user, and it makes for a good user experience."
   ]
  }
 ],
 "metadata": {
  "kernelspec": {
   "display_name": "Python 3",
   "language": "python",
   "name": "python3"
  },
  "language_info": {
   "codemirror_mode": {
    "name": "ipython",
    "version": 3
   },
   "file_extension": ".py",
   "mimetype": "text/x-python",
   "name": "python",
   "nbconvert_exporter": "python",
   "pygments_lexer": "ipython3",
   "version": "3.7.6"
  }
 },
 "nbformat": 4,
 "nbformat_minor": 4
}
