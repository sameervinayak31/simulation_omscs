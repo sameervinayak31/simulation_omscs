{
 "cells": [
  {
   "cell_type": "markdown",
   "metadata": {},
   "source": [
    "# Exploring Python's *SimPy* as a Simulation Tool"
   ]
  },
  {
   "cell_type": "markdown",
   "metadata": {},
   "source": [
    "## Vivek Gawande & Sameer Vinayak"
   ]
  },
  {
   "cell_type": "markdown",
   "metadata": {},
   "source": [
    "### Abstract"
   ]
  },
  {
   "cell_type": "code",
   "execution_count": null,
   "metadata": {},
   "outputs": [],
   "source": []
  },
  {
   "cell_type": "markdown",
   "metadata": {},
   "source": [
    "### Background & Overview"
   ]
  },
  {
   "cell_type": "markdown",
   "metadata": {},
   "source": []
  },
  {
   "cell_type": "markdown",
   "metadata": {},
   "source": [
    "SimPy is a python module that supports the creation of process-interaction-based simulation models. The module was first developed in 2002, and is now on version 4.0.1. While primarily developed in python, ports of the module exist for the C#, Julia, and R languages. Unlike standalone software such as Arena, SimPy is used as an addition to the existing python language, meaning a user of SimPy must be relatively familiar with python. On the same note, however, a user of python may have an easier type getting accustomed to the simulation framework once educated on some of the terminology. \n",
    "\n",
    "The module relies heavily on python's generator object in order to facilitate the concept of \"waiting\". This \"waiting\" is used to allow for processes to finish and for resources to become available. This allows the module to offer functionality analogous to an asynchronous event dispatcher. In other words, multiple processes can be running in parallel, and these processes can trigger other processes that are due next.\n",
    "\n",
    "Similar to other simulation software like Arena, SimPy has basic objects that are used to facilitate simulations. For example, *processes* are events that take place, such as entering a store and shopping, or repairing a car, to give a few examples. *Resources* are objects that can be relied upon in order to carry out processes, such as a spot at a register to pay or a mechanic to repair a car. A *container* can be used to track fluctuating resources, like the amount of money in a wallet. There are many more object types, and each comes with useful methods with which to interact.\n",
    "\n",
    "As mentioned, the module takes advantage of being embedded in the python language. Accordingly, functionality such as random variate generation, did not need to be re-implemented for the purpose of this module. Instead, the module allows the user to simply use the built-in modules (such as \"random\") in conjunction with this module. That allows for the user to user already-familiar syntax for common tasks like generating a random number. In a similar vein, SimPy does not appear to offer automatically generated simulation reports. Instead, the creator is expected to use built in data structures such as lists and dictionaries to track the results of the simulation as they are occuring. This allows for a great amount of customization at the expense of up front costs and tediousness.\n",
    "\n",
    "In the remainder of this project, we will begin by giving a high level User Guide to using SimPy. This will display the fundamental classes that make up the core functionality of the module. Then, we will give two example simulations. This will touch on some of the more advanced concepts of SimPy. Next, we will give our comments and opinions on using the module before concluding."
   ]
  },
  {
   "cell_type": "markdown",
   "metadata": {},
   "source": [
    "### User Guide"
   ]
  },
  {
   "cell_type": "markdown",
   "metadata": {},
   "source": [
    "In order to install SimPy, users can simply use pip by running the following command:\n",
    "```\n",
    "pip install simpy\n",
    "```\n",
    "This will install the latest release available publicly. The module impressively has no other dependencies and relies solely on core python. Due to the extensive use of generators, python 3 is strongly preferred for use of the package.\n",
    "\n",
    "The module can then be imported as shown below."
   ]
  },
  {
   "cell_type": "code",
   "execution_count": 1,
   "metadata": {},
   "outputs": [],
   "source": [
    "import simpy"
   ]
  },
  {
   "cell_type": "markdown",
   "metadata": {},
   "source": [
    "First, we will create an environment object, which will house all of the processes and resources that we will use. Any simulation in SimPy must belong to an environment. \n",
    "\n",
    "Then, we will create a \"runner\" function to represent an athlete who can either run or hydrate. The key concept used to facilitate this timed switching between activities is *yield*, which returns a generator. Throughout the process, we can print (or alternatively store) the times at which the action commenced."
   ]
  },
  {
   "cell_type": "code",
   "execution_count": 4,
   "metadata": {},
   "outputs": [],
   "source": [
    "env = simpy.Environment()\n",
    "\n",
    "def runner(env):\n",
    "    while True:\n",
    "        print(\"start running at at %d\" % env.now)\n",
    "        running_time = 10  # runner runs for 10 minutes\n",
    "        yield env.timeout(running_time)\n",
    "        \n",
    "        print(\"start hydrating at at %d\" % env.now)\n",
    "        hydrating_time = 2  # runner runs for 10 minutes\n",
    "        yield env.timeout(hydrating_time)"
   ]
  },
  {
   "cell_type": "markdown",
   "metadata": {},
   "source": [
    "The above function outlines how a runner may behave. Now, we need to execute the process. To do so, we also need to decide when the process will end. In this basic example, we can simply end once the time has reached 60 minutes."
   ]
  },
  {
   "cell_type": "code",
   "execution_count": 5,
   "metadata": {},
   "outputs": [
    {
     "name": "stdout",
     "output_type": "stream",
     "text": [
      "start running at at 0\n",
      "start hydrating at at 10\n",
      "start running at at 12\n",
      "start hydrating at at 22\n",
      "start running at at 24\n",
      "start hydrating at at 34\n",
      "start running at at 36\n",
      "start hydrating at at 46\n",
      "start running at at 48\n",
      "start hydrating at at 58\n"
     ]
    }
   ],
   "source": [
    "how_long = 60\n",
    "env.process(runner(env))  # this essentially connects the process to the environment.\n",
    "                          # multiple processes can be added to an environment.\n",
    "env.run(until=how_long)"
   ]
  },
  {
   "cell_type": "markdown",
   "metadata": {},
   "source": [
    "In the coming examples, we will discuss more advanced functionality, such as drawing from a distribution, using resources, and running competing processes. To conclude this high level user guide, we have provided a glossary of key concepts:\n",
    "\n",
    "- *Environment* - the execution space for the simulation. SimPy also supports RealTimeEnvironment, which uses wall-clock time, but the standard Environment is event-based, and the progression of time is determined by the beginning and end of events. An environment can be instantiated with a start time if using 0 is not preferred. Multiple processes can belong to one environment.\n",
    "- *yield/generator* - these core python concepts are used throughout SimPy simulations in order to simulate the \"waiting\" process. One must yield a timeout object to ensure the simulation follows the rules that estimate reality.\n",
    "- *Environment.timeout()* - the .timeout() method returns an event after a specified delay. This can be thought of as Arena's \"Seize-Delay-Release\" all in one. \n",
    "- *Environment.process()* - once an environment is created, one should \"process\" (different from the noun process) a generator, which can be returned from a custom-defined object. In our example above, the custom function \"runner\" yields a generator, which gets processed by the environment. In layperson's terms, processing an item adds it to the environment for future use.\n",
    "- *Environment.run()* - this method executes the generators in the environment. The environment runs until either the specified time is met, or there are no further events to be processed. Alternatively, one can pass another event into the \"until\" parameter, and the simulation will run until that event is processed. "
   ]
  },
  {
   "cell_type": "markdown",
   "metadata": {},
   "source": [
    "### Examples"
   ]
  },
  {
   "cell_type": "markdown",
   "metadata": {},
   "source": [
    "### Comments & Opinions"
   ]
  },
  {
   "cell_type": "markdown",
   "metadata": {},
   "source": [
    "### Conclusion"
   ]
  },
  {
   "cell_type": "code",
   "execution_count": null,
   "metadata": {},
   "outputs": [],
   "source": []
  },
  {
   "cell_type": "code",
   "execution_count": null,
   "metadata": {},
   "outputs": [],
   "source": [
    "\"\"\"\n",
    "my notes\n",
    "\n",
    "created in 2002. now on 4.0.1\n",
    " process-interaction\n",
    " asynchronous event dispatcher\n",
    " uses generator\n",
    " create processes, use timeouts to stop processes\n",
    " uses other python builtins, such as random, dist generation\n",
    " lots of terminology to learn, similar to Arena. \n",
    " can have shared resources that form a queue\n",
    " container is cool - (give example of this) doing it manually could get messy\n",
    " main functionality seems to be running in parallel after instantiating\n",
    " - like arena, can seize delay release, or break out separately. FIFO by default\n",
    " - can run until specified end point, or until resources are exhausted\n",
    " monitoring/reporting is all \"custom\"/manual\n",
    " \n",
    " - simpy.io for animations?\n",
    "\"\"\""
   ]
  }
 ],
 "metadata": {
  "kernelspec": {
   "display_name": "Python 3",
   "language": "python",
   "name": "python3"
  },
  "language_info": {
   "codemirror_mode": {
    "name": "ipython",
    "version": 3
   },
   "file_extension": ".py",
   "mimetype": "text/x-python",
   "name": "python",
   "nbconvert_exporter": "python",
   "pygments_lexer": "ipython3",
   "version": "3.7.6"
  }
 },
 "nbformat": 4,
 "nbformat_minor": 4
}
