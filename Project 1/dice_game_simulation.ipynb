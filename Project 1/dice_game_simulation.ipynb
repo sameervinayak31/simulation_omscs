{
 "cells": [
  {
   "cell_type": "code",
   "execution_count": null,
   "metadata": {},
   "outputs": [],
   "source": [
    "\"\"\"\n",
    "rules from assignment:\n",
    "\n",
    "(1–2 members) Another game.  There are two players, A and B.  At the beginningof the game, \n",
    "each starts with 4 coins, and there are 2 coins in the pot.  A goes first,then B, then A,. . . .  \n",
    "During a particular player’s turn, the player tosses a 6-sideddie.  If the player rolls a:\n",
    "•1, then the player does nothing.\n",
    "•2:  then the player takes all coins in the pot.\n",
    "•3:  then the player takes half of the coins in the pot (rounded down).\n",
    "•4,5,6:  then the player puts a coin in the pot.\n",
    "\n",
    "A player \n",
    "loses (and the game is over) if they are unable to perform the task (i.e.,if they have 0 coins and\n",
    "need to place one in the pot).  We define a cycle as A andthen B completing their turns.\n",
    "The exception is if a player goes out;  that is the\n",
    "4final cycle (but it still counts as the last cycle).\n",
    "\n",
    "We are trying to determine \n",
    "theexpected number (and maybe even the distribution) of cycles the game will lastfor.\n",
    "I’m guessing that you can use “first-step” analysis to get the expected value.Simulation seems\n",
    "the easiest thing to do to get the entire distribution.\n",
    "\"\"\"\n",
    "\n",
    "# will delete these top cells before submitting"
   ]
  },
  {
   "cell_type": "code",
   "execution_count": null,
   "metadata": {},
   "outputs": [],
   "source": [
    "\"\"\"\n",
    "TODO\n",
    "\n",
    "-how much math notation? how do we make the analysis \"statistically rigorous\"?\n",
    "-how many simulations is enough for a MC simulation? Why am I using 10k?\n",
    "-add documentation/comments in code\n",
    "-add README to repo\n",
    "-writeups for all sections\n",
    "-first-step analysis? what is that?\n",
    "\n",
    "modifications to game rules:\n",
    "    - does the first player have an advantage in winning?\n",
    "        - seems roughly to have no impact, but can we quantify that?\n",
    "    - if a '1' is rolled, give a coin (increase probability of giving a coin):\n",
    "        - reduces # cycles to ~11, aligns with expectations\n",
    "    - if a '2' is rolled, receive twice the amount in the pot, instead of just the amount in pot:\n",
    "        - in the extreme case, the game can run very long (infinitely) as coins in circulation grows exponentially\n",
    "        - ** additional questions to explore on this one are below\n",
    "\"\"\""
   ]
  },
  {
   "cell_type": "markdown",
   "metadata": {},
   "source": [
    "# *ISYE-6644 Mini-Project 1 - Dice Game Simulation*\n",
    "### *Vivek Gawande & Sameer Vinayak*"
   ]
  },
  {
   "cell_type": "markdown",
   "metadata": {},
   "source": [
    "## Abstract"
   ]
  },
  {
   "cell_type": "markdown",
   "metadata": {},
   "source": [
    "The goal of this report is to explore the Dice Roll Game, which is described below in the Background & Description. Due to the nature of the game's rules, there is no predetermined number of \"cycles\" for which the game will last. Instead, the game ends when one of two players no longer has any coins. Using python, we were able to create a simulation of the Dice Roll Game, which allowed us to replicate the playing of thousands of rounds of the games in a short amount of time. The result of this programmatic approach to the problem gave us the ability to answer many questions about the game, including the expected number of cycles in the Dice Roll Game. Using the rules as described, we found that the expected number of cycles for the Dice Roll Game is rougly **17.5**, and the number of cycles follow an **exponential** distribution. We also found that small tweaks to the game's rule can have a large impact on the expected number of cycles."
   ]
  },
  {
   "cell_type": "markdown",
   "metadata": {},
   "source": [
    "## Background & Description"
   ]
  },
  {
   "cell_type": "code",
   "execution_count": null,
   "metadata": {},
   "outputs": [],
   "source": []
  },
  {
   "cell_type": "markdown",
   "metadata": {},
   "source": [
    "## Implementation"
   ]
  },
  {
   "cell_type": "code",
   "execution_count": 1,
   "metadata": {},
   "outputs": [],
   "source": [
    "import random\n",
    "import time\n",
    "import matplotlib.pyplot as plt\n",
    "import numpy as np\n",
    "random.seed(998877)  # elaborate on what is being done here"
   ]
  },
  {
   "cell_type": "markdown",
   "metadata": {},
   "source": [
    "Above, we import python's 'random' [library.](https://docs.python.org/3/library/random.html)\n",
    "The library gives access to, among other functionality not used here, methods that can be used to generate random numbers. The module uses the **Mersenne Twister** pseudorandom number generator. While not without its drawbacks, the PRNG is widely accepted across software implentations as a fast, well-implemented PRNG. Mathematical details on the underlying algorithm can be found [here.](http://www.math.sci.hiroshima-u.ac.jp/m-mat/MT/ARTICLES/mt.pdf)\n",
    "\n",
    "After importing the library, we set the seed to a large integer for reproducibility."
   ]
  },
  {
   "cell_type": "code",
   "execution_count": 2,
   "metadata": {},
   "outputs": [],
   "source": [
    "class DiceGame:\n",
    "    \"\"\"\n",
    "    Our python implentation of the Dice Roll Game.\n",
    "    \n",
    "    The __init__ method starts the game off with the rules as\n",
    "    defined in the prompt listing.\n",
    "    \n",
    "    The play_game method executes the playing of a full game while tracking\n",
    "    the number of cycles, winner, and pot amounts. It runs until the breaking\n",
    "    condition, defined as the current player being unable to perform the task\n",
    "    demanded by the most recent roll.\n",
    "    \"\"\"\n",
    "    def __init__(self, first='a'):\n",
    "        self.player_a = 4\n",
    "        self.player_b = 4\n",
    "        self.pot = 2\n",
    "        self.cycles = 0\n",
    "        self.first = first\n",
    "        self.players = {'a':self.player_a,\n",
    "                        'b':self.player_b}\n",
    "        self.current_player = self.first\n",
    "        self.winner = None\n",
    "    \n",
    "    def __roll(self):\n",
    "        \"\"\"\n",
    "        random's randrange function is used to generate a random integer between\n",
    "        0 and 5, inclusive. A 1 is added to this number to make the number equivalent\n",
    "        to a dice roll number.\n",
    "        \"\"\"\n",
    "        return random.randrange(6) + 1\n",
    "    \n",
    "    def play_game(self): \n",
    "        while True:\n",
    "            if self.current_player == 'a':\n",
    "                self.cycles +=1\n",
    "            outcome = self.__roll()\n",
    "            if self.cycles == 1:\n",
    "                self.first = outcome\n",
    "\n",
    "            if outcome == 1:\n",
    "                continue\n",
    "            elif outcome == 2:\n",
    "                self.players[self.current_player] += self.pot\n",
    "                self.pot = 0\n",
    "            elif outcome == 3:\n",
    "                half_pot = self.pot // 2\n",
    "                self.players[self.current_player] += half_pot\n",
    "                self.pot -= half_pot\n",
    "            else:\n",
    "                if self.players[self.current_player] == 0:\n",
    "                    self.winner = 'a' if self.current_player == 'b' else 'b'\n",
    "                    break\n",
    "                self.players[self.current_player] -= 1\n",
    "                self.pot += 1\n",
    "            \n",
    "            self.current_player = 'a' if self.current_player == 'b' else 'b'"
   ]
  },
  {
   "cell_type": "markdown",
   "metadata": {},
   "source": [
    "In order to ascertain the Expected Value of the number of cycles required to\n",
    "complete a game of Dice Roll, we simulate the game 10,000 times below.\n",
    "\n",
    "The number for n, 10,000, was chosen somewhat arbitrarily - it gives us the ability\n",
    "to feel confident that the number of iterations is sufficient to avoid overweighting\n",
    "of outliers, while not being overly computationally and time intensive."
   ]
  },
  {
   "cell_type": "code",
   "execution_count": 3,
   "metadata": {},
   "outputs": [],
   "source": [
    "def simulate_n_games(game_object, n=1000, plot=True):\n",
    "    \"\"\"\n",
    "    This helper function is used to execute the DiceGame\n",
    "    class n times. After running n times, the function\n",
    "    produces a histogram of cycle frequencies,\n",
    "    noting the mean value of the cycles from the\n",
    "    n iterations of the game. This is taken to\n",
    "    represent the expected value, or how long, on\n",
    "    average, a game of Dice Roll will last.\n",
    "    \"\"\"\n",
    "    number_of_cycles = []\n",
    "    for i in range(n):\n",
    "        game = game_object()\n",
    "        game.play_game()\n",
    "        number_of_cycles.append(game.cycles)\n",
    "    \n",
    "    mean_cycles = np.mean(number_of_cycles)\n",
    "    std_cycles = np.std(number_of_cycles)\n",
    "    \n",
    "    if plot:\n",
    "        fig = plt.figure(figsize=(20, 10))\n",
    "        ax = fig.add_subplot(111)\n",
    "        ax.hist(number_of_cycles, bins = len(set(number_of_cycles)),\n",
    "                color='green' if game_object == DiceGame else 'orange', alpha=.5);\n",
    "        ax.set_title(str(n) + \" Simulations of Dice Game\");\n",
    "        plt.grid(True, alpha=.5)\n",
    "        ax.set_xlabel('Cycles');\n",
    "        ax.set_ylabel('Frequency');\n",
    "        plt.axvline(mean_cycles, color='red', ls='--', lw='3')\n",
    "        plt.show();\n",
    "        print(\"Mean # of cycles per game: \" + str(round(mean_cycles,2)))\n",
    "    return mean_cycles"
   ]
  },
  {
   "cell_type": "code",
   "execution_count": 7,
   "metadata": {},
   "outputs": [
    {
     "data": {
      "image/png": "[encoded data removed]",
      "text/plain": [
       "<Figure size 1440x720 with 1 Axes>"
      ]
     },
     "metadata": {
      "needs_background": "light"
     },
     "output_type": "display_data"
    },
    {
     "name": "stdout",
     "output_type": "stream",
     "text": [
      "Mean # of cycles per game: 17.52\n"
     ]
    }
   ],
   "source": [
    "_ = simulate_n_games(DiceGame, 10000)"
   ]
  },
  {
   "cell_type": "markdown",
   "metadata": {},
   "source": [
    "!!!!!!!!!!!!!!!!!!!!!!!!!!!!!!!!!!!!!!!!!!!!!!!!\n",
    "\n",
    "fill this space with a writeup about the EV and Distribution.\n",
    "\n",
    "!!!!!!!!!!!!!!!!!!!!!!!!!!!!!!!!!!!!!!!!!!!!!!!!"
   ]
  },
  {
   "cell_type": "markdown",
   "metadata": {},
   "source": [
    "Since we are simulating the game 10,000 times, it would be interesting to see how the\n",
    "Expected Value of the number of cycles varies from simulation to simulation. Our hypothesis\n",
    "prior to running this is that the EV should be roughly the same (17.5), but variance that\n",
    "forms a normal distribution. To test this, we can run the n simulations k times and plot\n",
    "the resulting Expected Values.\n",
    "\n",
    "This also helps us validate the EV number from the above single simulation of 10,000 iterations."
   ]
  },
  {
   "cell_type": "code",
   "execution_count": 7,
   "metadata": {},
   "outputs": [],
   "source": [
    "def get_mean_cycles_k_times(k=1000, n=100):\n",
    "    \"\"\"\n",
    "    This function calls the simulate_n_games function\n",
    "    k times in order to determine the distribution\n",
    "    of the expected values.\n",
    "    \"\"\"\n",
    "    means = []\n",
    "    for i in range(k):\n",
    "        means.append(simulate_n_games(DiceGame, n, plot=False))\n",
    "\n",
    "    fig = plt.figure(figsize=(10, 10))\n",
    "    ax = fig.add_subplot(111)\n",
    "    ax.hist(means, color='darkorchid', alpha=.5, bins=min(k//10,50));\n",
    "    ax.set_title(\"Average # of Cycles for \" + str(k) + \" Simulations of \" + str(n) + \" Games\");\n",
    "    mean_of_means = np.mean(means)\n",
    "    std_of_means = np.std(means)\n",
    "    plt.xlim((mean_of_means-3*std_of_means, mean_of_means+3*std_of_means))\n",
    "    plt.axvline(mean_of_means, color='red', ls='--', lw='3')\n",
    "    plt.grid(True, alpha=.5)\n",
    "        "
   ]
  },
  {
   "cell_type": "code",
   "execution_count": 8,
   "metadata": {},
   "outputs": [
    {
     "data": {
      "image/png": "[encoded data removed]",
      "text/plain": [
       "<Figure size 720x720 with 1 Axes>"
      ]
     },
     "metadata": {
      "needs_background": "light"
     },
     "output_type": "display_data"
    }
   ],
   "source": [
    "get_mean_cycles_k_times()\n",
    "\n",
    "# note that the default values of k and n are used. \n",
    "# n is 100, not 10,000, for speed purposes."
   ]
  },
  {
   "cell_type": "markdown",
   "metadata": {},
   "source": [
    "Below, we have conducted additional simulations with slight modifications to the data collection and rules. Code for the modified DiceRoll classes can be found in the appendix."
   ]
  },
  {
   "cell_type": "markdown",
   "metadata": {},
   "source": [
    "### Winning % based on who goes first"
   ]
  },
  {
   "cell_type": "code",
   "execution_count": 39,
   "metadata": {},
   "outputs": [],
   "source": [
    "def simulate_n_games_winner(n=1000, plot=True, first='a'):\n",
    "    winner = []\n",
    "    for i in range(n):\n",
    "        game = DiceGame(first=first)\n",
    "        game.play_game()\n",
    "        winner.append(game.winner)\n",
    "    \n",
    "    #plt.hist(number_of_cycles, bins=len(set(number_of_cycles)))\n",
    "    \n",
    "    return len([i for i in winner if i == first])/n"
   ]
  },
  {
   "cell_type": "code",
   "execution_count": 40,
   "metadata": {},
   "outputs": [
    {
     "data": {
      "text/plain": [
       "0.5038"
      ]
     },
     "execution_count": 40,
     "metadata": {},
     "output_type": "execute_result"
    }
   ],
   "source": [
    "simulate_n_games_winner(10000, 'a')  # says that when 'a' goes first, they win 50.327% of matches"
   ]
  },
  {
   "cell_type": "code",
   "execution_count": 131,
   "metadata": {},
   "outputs": [],
   "source": [
    "# how do we test if this result is significant?"
   ]
  },
  {
   "cell_type": "markdown",
   "metadata": {},
   "source": [
    "### If rolling a 1 also results in having to give a coin"
   ]
  },
  {
   "cell_type": "code",
   "execution_count": 132,
   "metadata": {},
   "outputs": [],
   "source": [
    "class ModifiedDiceGame1:\n",
    "\n",
    "    def __init__(self, first='a'):\n",
    "        self.player_a = 4\n",
    "        self.player_b = 4\n",
    "        self.pot = 2\n",
    "        self.cycles = 0\n",
    "        self.first = first\n",
    "        self.players = {'a':self.player_a,\n",
    "                        'b':self.player_b}\n",
    "        self.current_player = self.first\n",
    "        self.winner = None\n",
    "    \n",
    "    def __roll(self):\n",
    "        return random.randrange(6) + 1\n",
    "    \n",
    "    def play_game(self): \n",
    "        while True:\n",
    "            if self.current_player == 'a':\n",
    "                self.cycles +=1\n",
    "            outcome = self.__roll()\n",
    "            if self.cycles == 1:\n",
    "                self.first = outcome\n",
    "\n",
    "            if outcome == 2:\n",
    "                self.players[self.current_player] += self.pot\n",
    "                self.pot = 0\n",
    "            elif outcome == 3:\n",
    "                half_pot = self.pot // 2\n",
    "                self.players[self.current_player] += half_pot\n",
    "                self.pot -= half_pot\n",
    "            else:\n",
    "                if self.players[self.current_player] == 0:\n",
    "                    self.winner = 'a' if self.current_player == 'b' else 'b'\n",
    "                    break\n",
    "                self.players[self.current_player] -= 1\n",
    "                self.pot += 1\n",
    "            \n",
    "            self.current_player = 'a' if self.current_player == 'b' else 'b'"
   ]
  },
  {
   "cell_type": "code",
   "execution_count": 141,
   "metadata": {},
   "outputs": [
    {
     "data": {
      "image/png": "[encoded data removed]",
      "text/plain": [
       "<Figure size 1440x720 with 1 Axes>"
      ]
     },
     "metadata": {
      "needs_background": "light"
     },
     "output_type": "display_data"
    },
    {
     "name": "stdout",
     "output_type": "stream",
     "text": [
      "Mean # of cycles per game: 11.23\n"
     ]
    }
   ],
   "source": [
    "_ = simulate_n_games(ModifiedDiceGame1, 10000)"
   ]
  },
  {
   "cell_type": "code",
   "execution_count": 134,
   "metadata": {},
   "outputs": [],
   "source": [
    "# should be simple analysis - increases the probability that a player loses a coin\n",
    "# maybe we can talk about the variance here as well"
   ]
  },
  {
   "cell_type": "markdown",
   "metadata": {},
   "source": [
    "### if rolling a 2 means player gets 2x coins in pot"
   ]
  },
  {
   "cell_type": "code",
   "execution_count": 137,
   "metadata": {},
   "outputs": [],
   "source": [
    "class ModifiedDiceGame2x:\n",
    "\n",
    "    def __init__(self, first='a'):\n",
    "        self.player_a = 4\n",
    "        self.player_b = 4\n",
    "        self.pot = 2\n",
    "        self.cycles = 0\n",
    "        self.first = first\n",
    "        self.players = {'a':self.player_a,\n",
    "                        'b':self.player_b}\n",
    "        self.current_player = self.first\n",
    "        self.winner = None\n",
    "    \n",
    "    def __roll(self):\n",
    "        return random.randrange(6) + 1\n",
    "    \n",
    "    def play_game(self): \n",
    "        while True:\n",
    "            if self.cycles > 10000:  # had to cap the max # of cycles\n",
    "                self.winner = 'draw'\n",
    "                break\n",
    "            if self.current_player == 'a':\n",
    "                self.cycles +=1\n",
    "            outcome = self.__roll()\n",
    "            if self.cycles == 1:\n",
    "                self.first = outcome\n",
    "\n",
    "            if outcome == 1:\n",
    "                continue\n",
    "            elif outcome == 2:\n",
    "                self.players[self.current_player] += self.pot\n",
    "                self.pot = 0\n",
    "            elif outcome == 3:\n",
    "                half_pot = self.pot // 2\n",
    "                self.players[self.current_player] += 2*half_pot\n",
    "                self.pot -= half_pot\n",
    "            else:\n",
    "                if self.players[self.current_player] == 0:\n",
    "                    self.winner = 'a' if self.current_player == 'b' else 'b'\n",
    "                    break\n",
    "                self.players[self.current_player] -= 1\n",
    "                self.pot += 1\n",
    "            \n",
    "            self.current_player = 'a' if self.current_player == 'b' else 'b'"
   ]
  },
  {
   "cell_type": "code",
   "execution_count": 140,
   "metadata": {},
   "outputs": [
    {
     "data": {
      "image/png": "[encoded data removed]",
      "text/plain": [
       "<Figure size 1440x720 with 1 Axes>"
      ]
     },
     "metadata": {
      "needs_background": "light"
     },
     "output_type": "display_data"
    },
    {
     "name": "stdout",
     "output_type": "stream",
     "text": [
      "Mean # of cycles per game: 1722.0\n"
     ]
    }
   ],
   "source": [
    "_ = simulate_n_games(ModifiedDiceGame2x, 100)"
   ]
  },
  {
   "cell_type": "code",
   "execution_count": 139,
   "metadata": {},
   "outputs": [],
   "source": [
    "# there's room for interesting analysis here around the variance caused by doubling the pot size\n",
    "# we can perhaps talk about how it's important to define the game rules to avoid these issues,\n",
    "# and maybe plot the pot sizes in the outlier case to show it approach infinity/10000"
   ]
  },
  {
   "cell_type": "markdown",
   "metadata": {},
   "source": [
    "## Conclusion"
   ]
  },
  {
   "cell_type": "code",
   "execution_count": null,
   "metadata": {},
   "outputs": [],
   "source": []
  },
  {
   "cell_type": "markdown",
   "metadata": {},
   "source": [
    "## Appendix"
   ]
  },
  {
   "cell_type": "code",
   "execution_count": null,
   "metadata": {},
   "outputs": [],
   "source": []
  }
 ],
 "metadata": {
  "kernelspec": {
   "display_name": "Python 3",
   "language": "python",
   "name": "python3"
  },
  "language_info": {
   "codemirror_mode": {
    "name": "ipython",
    "version": 3
   },
   "file_extension": ".py",
   "mimetype": "text/x-python",
   "name": "python",
   "nbconvert_exporter": "python",
   "pygments_lexer": "ipython3",
   "version": "3.7.6"
  }
 },
 "nbformat": 4,
 "nbformat_minor": 4
}
